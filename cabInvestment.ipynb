{
 "cells": [
  {
   "cell_type": "markdown",
   "metadata": {},
   "source": [
    "Data Glacier Summer 2022 Virtual Internship\n",
    "\n",
    "G2M Cab Investment Analysis"
   ]
  },
  {
   "cell_type": "code",
   "execution_count": 18,
   "metadata": {},
   "outputs": [],
   "source": [
    "#Importing data sets\n",
    "import pandas as pd\n",
    "import matplotlib.pyplot as plt\n",
    "\n",
    "\n",
    "cabDF = pd.read_csv('DataSets\\Cab_Data.csv')\n",
    "cityDF = pd.read_csv('DataSets\\City.csv')\n",
    "customerDF = pd.read_csv('Datasets\\Customer_ID.csv')\n",
    "transactionDF = pd.read_csv('DataSets\\Transaction_ID.csv')"
   ]
  },
  {
   "cell_type": "code",
   "execution_count": 24,
   "metadata": {},
   "outputs": [
    {
     "name": "stdout",
     "output_type": "stream",
     "text": [
      "Cab DF\n",
      "       Transaction ID  Date of Travel   KM Travelled  Price Charged  \\\n",
      "count    3.593920e+05   359392.000000  359392.000000  359392.000000   \n",
      "mean     1.022076e+07    42964.067998      22.567254     423.443311   \n",
      "std      1.268058e+05      307.467197      12.233526     274.378911   \n",
      "min      1.000001e+07    42371.000000       1.900000      15.600000   \n",
      "25%      1.011081e+07    42697.000000      12.000000     206.437500   \n",
      "50%      1.022104e+07    42988.000000      22.440000     386.360000   \n",
      "75%      1.033094e+07    43232.000000      32.960000     583.660000   \n",
      "max      1.044011e+07    43465.000000      48.000000    2048.030000   \n",
      "\n",
      "        Cost of Trip  \n",
      "count  359392.000000  \n",
      "mean      286.190113  \n",
      "std       157.993661  \n",
      "min        19.000000  \n",
      "25%       151.200000  \n",
      "50%       282.480000  \n",
      "75%       413.683200  \n",
      "max       691.200000  \n",
      "   Transaction ID  Date of Travel   Company        City  KM Travelled  \\\n",
      "0        10000011           42377  Pink Cab  ATLANTA GA         30.45   \n",
      "1        10000012           42375  Pink Cab  ATLANTA GA         28.62   \n",
      "2        10000013           42371  Pink Cab  ATLANTA GA          9.04   \n",
      "\n",
      "   Price Charged  Cost of Trip  \n",
      "0         370.95       313.635  \n",
      "1         358.52       334.854  \n",
      "2         125.20        97.632  \n"
     ]
    }
   ],
   "source": [
    "print('Cab DF')\n",
    "print(cabDF.describe())\n",
    "print(cabDF[:3])\n",
    "\n",
    "X = cabDF['KM Travelled']\n",
    "Y =cabDF['Price Charged']\n",
    "\n",
    "\n",
    "#fig = plt.figure()\n",
    "#plt.scatter(X,Y)\n",
    "#plt.show()\n"
   ]
  }
 ],
 "metadata": {
  "interpreter": {
   "hash": "9fc07b9e41607529a1adced8e34997415a0513298b53aededf2325db8cdba764"
  },
  "kernelspec": {
   "display_name": "Python 3.8.3 ('base')",
   "language": "python",
   "name": "python3"
  },
  "language_info": {
   "codemirror_mode": {
    "name": "ipython",
    "version": 3
   },
   "file_extension": ".py",
   "mimetype": "text/x-python",
   "name": "python",
   "nbconvert_exporter": "python",
   "pygments_lexer": "ipython3",
   "version": "3.8.3"
  },
  "orig_nbformat": 4
 },
 "nbformat": 4,
 "nbformat_minor": 2
}
